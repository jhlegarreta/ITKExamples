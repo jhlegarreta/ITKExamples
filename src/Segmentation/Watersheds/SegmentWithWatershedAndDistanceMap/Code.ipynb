{
 "cells": [
  {
   "cell_type": "code",
   "execution_count": 15,
   "id": "9e8cfdc6",
   "metadata": {},
   "outputs": [],
   "source": [
    "import sys\n",
    "\n",
    "import itk\n",
    "import numpy as np\n",
    "\n",
    "from itkwidgets import view, cm\n",
    "import matplotlib.pyplot as plt"
   ]
  },
  {
   "cell_type": "code",
   "execution_count": 17,
   "id": "057c9f2f",
   "metadata": {},
   "outputs": [
    {
     "data": {
      "application/vnd.jupyter.widget-view+json": {
       "model_id": "962ea74edef74bc4b0b026a83f3dde3a",
       "version_major": 2,
       "version_minor": 0
      },
      "text/plain": [
       "Viewer(cmap=['bone_Matlab'], geometries=[], gradient_opacity=0.22, point_sets=[], rendered_image=<itk.itkImage…"
      ]
     },
     "metadata": {},
     "output_type": "display_data"
    }
   ],
   "source": [
    "stack_image = itk.imread('./PlateauBorder.tif')\n",
    "view(stack_image, cmap=[cm.bone])"
   ]
  },
  {
   "cell_type": "code",
   "execution_count": 20,
   "id": "ab956229",
   "metadata": {},
   "outputs": [
    {
     "data": {
      "application/vnd.jupyter.widget-view+json": {
       "model_id": "c0fc5e027fe149d4b4bc866b054c6e38",
       "version_major": 2,
       "version_minor": 0
      },
      "text/plain": [
       "Viewer(cmap=['bone_Matlab'], geometries=[], gradient_opacity=0.22, point_sets=[], rendered_image=<itk.itkImage…"
      ]
     },
     "metadata": {},
     "output_type": "display_data"
    }
   ],
   "source": [
    "binarizing_radius = 2\n",
    "majority_threshold = 2\n",
    "\n",
    "bubble_image = itk.voting_binary_hole_filling_image_filter(stack_image,\n",
    "                                                           radius=binarizing_radius,\n",
    "                                                           majority_threshold=majority_threshold,\n",
    "                                                           background_value=0,\n",
    "                                                           foreground_value=255)\n",
    "bubble_image = itk.invert_intensity_image_filter(bubble_image)\n",
    "view(bubble_image, cmap=[cm.bone,])"
   ]
  },
  {
   "cell_type": "code",
   "execution_count": null,
   "id": "bfc02551",
   "metadata": {},
   "outputs": [],
   "source": []
  }
 ],
 "metadata": {
  "kernelspec": {
   "display_name": "Python 3",
   "language": "python",
   "name": "python3"
  },
  "language_info": {
   "codemirror_mode": {
    "name": "ipython",
    "version": 3
   },
   "file_extension": ".py",
   "mimetype": "text/x-python",
   "name": "python",
   "nbconvert_exporter": "python",
   "pygments_lexer": "ipython3",
   "version": "3.8.6"
  }
 },
 "nbformat": 4,
 "nbformat_minor": 5
}
